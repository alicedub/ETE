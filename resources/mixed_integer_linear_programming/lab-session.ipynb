{
 "cells": [
  {
   "cell_type": "markdown",
   "metadata": {},
   "source": [
    "# Linear (and mixed-integer linear) programming\n",
    "\n",
    "\n",
    "> During this session, we will use *IPython Notebook*. The current webpage embeds a Python interpreter. Each cell may be either text (Markdown) or code (Python) to be executed. All cells may be edited (double-click) and transformed (`Maj+Enter`) into text or passed to the interpreter. The result given by the interpreter and possible graphical representations appear below.\n",
    "\n",
    "Note that:\n",
    "- the current file is automatically saved as you work;\n",
    "- you may add cells with the `+` icon and choose their type (code or Markdown) in the corresponding drop menu.\n",
    "\n",
    "\n",
    "## Introduction\n",
    "\n",
    "We will use and import the `pulp` library. `pulp` gives access to a mixed-integer linear programming API that we will use. A free open-source solver named `coin` is embedded within the package, but it is also possible to bind commercial solvers like CPLEX or GUROBI. Ask your instructor if need be.\n",
    "\n",
    "Click on the cell and `Ctrl+Enter` to execute the Python command."
   ]
  },
  {
   "cell_type": "code",
   "execution_count": 1,
   "metadata": {
    "collapsed": true
   },
   "outputs": [],
   "source": [
    "import pulp\n",
    "\n",
    "# Regular imports for plotting\n",
    "# numpy always helps!\n",
    "\n",
    "%matplotlib inline\n",
    "import matplotlib.pyplot as plt\n",
    "import numpy as np"
   ]
  },
  {
   "cell_type": "markdown",
   "metadata": {},
   "source": [
    "<div class=\"alert alert-success\">\n",
    "<b>Example :</b><br />\n",
    "Find values for $x,y > 0$ such that $x+2\\,y <= 8$ et $2\\,x+y<= 8$ and as to maximize $x + y$\n",
    "</div>\n",
    "\n",
    "*Graphical interpretation:*"
   ]
  },
  {
   "cell_type": "code",
   "execution_count": 2,
   "metadata": {
    "collapsed": false,
    "scrolled": true
   },
   "outputs": [
    {
     "data": {
      "image/png": "[encoded data removed]",
      "text/plain": [
       "<Figure size 432x288 with 1 Axes>"
      ]
     },
     "metadata": {},
     "output_type": "display_data"
    }
   ],
   "source": [
    "def graphical_interpretation():\n",
    "    ax = plt.axes(frameon=False, aspect=1)\n",
    "    plt.xlim(-.2, 8), plt.ylim(-.2, 8)\n",
    "    x = np.arange(10)\n",
    "    plt.plot ((8 - x)/2)\n",
    "    plt.plot ((8 - 2*x), 'g')\n",
    "    plt.fill_between(x, (8 - x)/2, 8 + 0*x, alpha=0.2)\n",
    "    plt.fill_between(x, (8 - 2*x), 8 + 0*x, color='g', alpha=0.2)\n",
    "\n",
    "graphical_interpretation()\n"
   ]
  },
  {
   "cell_type": "code",
   "execution_count": 3,
   "metadata": {
    "collapsed": true
   },
   "outputs": [],
   "source": [
    "# First we create a problem\n",
    "prob = pulp.LpProblem(\"exemple\", pulp.LpMaximize)\n",
    "\n",
    "# We declare and name the variables\n",
    "# **WARNING** All variables must have a different name\n",
    "x = pulp.LpVariable(\"x\", 0, None) # lower bound, upper bound (None means unbounded)\n",
    "y = pulp.LpVariable(\"y\", 0, None)\n",
    "\n",
    "# Add constraints to the problem\n",
    "prob += x + 2 * y <= 8\n",
    "prob += 2 * x + y <= 8\n",
    "\n",
    "# If an expression is added, it is interpreted as the objective function\n",
    "prob += x + y\n",
    "\n",
    "# Then we solve it!\n",
    "status = prob.solve()"
   ]
  },
  {
   "cell_type": "code",
   "execution_count": 4,
   "metadata": {
    "collapsed": false
   },
   "outputs": [
    {
     "data": {
      "text/plain": [
       "'Optimal'"
      ]
     },
     "execution_count": 4,
     "metadata": {},
     "output_type": "execute_result"
    }
   ],
   "source": [
    "# Check the status of the resolution\n",
    "pulp.LpStatus[status]"
   ]
  },
  {
   "cell_type": "code",
   "execution_count": 5,
   "metadata": {
    "collapsed": false
   },
   "outputs": [
    {
     "data": {
      "text/plain": [
       "(2.6666667, 2.6666667)"
      ]
     },
     "execution_count": 5,
     "metadata": {},
     "output_type": "execute_result"
    },
    {
     "data": {
      "image/png": "[encoded data removed]",
      "text/plain": [
       "<Figure size 432x288 with 1 Axes>"
      ]
     },
     "metadata": {},
     "output_type": "display_data"
    }
   ],
   "source": [
    "graphical_interpretation()\n",
    "\n",
    "# Now we get the optimal value\n",
    "plt.plot([x.value()], [y.value()], 'ro')\n",
    "\n",
    "# By the way\n",
    "x.value(), y.value()"
   ]
  },
  {
   "cell_type": "markdown",
   "metadata": {},
   "source": [
    "<div class=\"alert alert-success\">\n",
    "**Attention:**\n",
    "We got the solution of the linear programming problem, but let's say we want to work with integer values.\n",
    "</div>"
   ]
  },
  {
   "cell_type": "code",
   "execution_count": 6,
   "metadata": {
    "collapsed": false
   },
   "outputs": [
    {
     "name": "stdout",
     "output_type": "stream",
     "text": [
      "(2.0, 3.0)\n"
     ]
    }
   ],
   "source": [
    "prob = pulp.LpProblem(\"example\", pulp.LpMaximize)\n",
    "\n",
    "x = pulp.LpVariable(\"x\", 0, None, cat=pulp.LpInteger)\n",
    "y = pulp.LpVariable(\"y\", 0, None, cat=pulp.LpInteger)\n",
    "\n",
    "prob += x + 2 * y <= 8\n",
    "prob += 2 * x + y <= 8\n",
    "\n",
    "prob += x + y\n",
    "\n",
    "assert pulp.LpStatus[prob.solve()] == 'Optimal'\n",
    "print ((pulp.value(x), pulp.value(y)))"
   ]
  },
  {
   "cell_type": "code",
   "execution_count": 7,
   "metadata": {
    "collapsed": false,
    "scrolled": true
   },
   "outputs": [
    {
     "data": {
      "text/plain": [
       "[<matplotlib.lines.Line2D at 0x10da6feb8>]"
      ]
     },
     "execution_count": 7,
     "metadata": {},
     "output_type": "execute_result"
    },
    {
     "data": {
      "image/png": "[encoded data removed]",
      "text/plain": [
       "<Figure size 432x288 with 1 Axes>"
      ]
     },
     "metadata": {},
     "output_type": "display_data"
    }
   ],
   "source": [
    "graphical_interpretation()\n",
    "\n",
    "# Admissible solutions\n",
    "plt.plot ([0, 0, 0, 0, 0, 1, 1, 1, 1, 2, 2, 2, 2, 3, 3, 3, 4],\n",
    "          [0, 1, 2 ,3 ,4, 0, 1, 2, 3, 0, 1, 2, 3, 0, 1, 2, 0],\n",
    "          'go', alpha=.5)\n",
    "\n",
    "# Now we get the optimal value\n",
    "plt.plot([x.value()], [y.value()], 'ro')\n"
   ]
  },
  {
   "cell_type": "markdown",
   "metadata": {},
   "source": [
    "## Linear programming"
   ]
  },
  {
   "cell_type": "markdown",
   "metadata": {},
   "source": [
    "<div class=\"alert alert-warning\">\n",
    "<b>Problem #2: (easy)</b>\n",
    "<p>\n",
    "To meet the demands of its customers, a company manufactures its products in its own factories (inside production) or buys them from other companies (outside production). Inside production is subject to some resource constraints: each product consumes a certain amount of each resource. In contrast, outside production is theoretically unlimited.\n",
    "</p><p>\n",
    "The problem is to determine how much of each product should be produced inside and outside the company while minimizing the overall production cost, meeting the demand, and satisfying the resource constraints.\n",
    "</p>\n",
    "</div>"
   ]
  },
  {
   "cell_type": "code",
   "execution_count": null,
   "metadata": {
    "collapsed": false
   },
   "outputs": [],
   "source": [
    "## 1. Products\n",
    "kluski = 0\n",
    "capellini = 1\n",
    "fettucine = 2\n",
    "products = ['kluski', 'capellini', 'fettucine']\n",
    "num_products = len(products)\n",
    "\n",
    "## 2. Resources\n",
    "flour = 0\n",
    "eggs = 1\n",
    "resources = ['flour', 'eggs']\n",
    "num_resources = len(resources)\n",
    "\n",
    "## 3. Costs, capacity and demand\n",
    "consumption = [[0.5, 0.2], [0.4, 0.4], [0.3, 0.6]]\n",
    "capacity = [20, 40]\n",
    "demand = [100, 200, 300]\n",
    "inside_cost = [0.6, 0.8, 0.3]\n",
    "outside_cost = [0.8, 0.9, 0.4]\n",
    "\n",
    "pb = pulp.LpProblem(\"pasta\", pulp.LpMinimize)\n",
    "\n",
    "## **--- add your code here ---\n",
    "\n",
    "\n",
    "## **--- add your code here ---\n",
    "\n",
    "assert pulp.LpStatus[pb.solve()] == 'Optimal'\n",
    "\n",
    "print('Objective value: ', pb.objective.value())\n",
    "\n",
    "for p in range(num_products):\n",
    "    msg = \"Production of {:<10} – inside: {:<4.1f} and outside: {:>4.1f}\"\n",
    "    print (msg.format(products[p], 0, 0))  # replace 0 by the correct value\n"
   ]
  },
  {
   "cell_type": "markdown",
   "metadata": {},
   "source": [
    "## Integer programming"
   ]
  },
  {
   "cell_type": "markdown",
   "metadata": {},
   "source": [
    "<div class=\"alert alert-warning\">\n",
    "<b>Problem #3: (easy) – The knapsack problem</b>\n",
    "<p>\n",
    "Given a set of items, each with a value and a weight, determine the number of each item to include in a collection (the knapsack) so that the total weight is less than or equal to a given limit and the total value is as large as possible. \n",
    "</p><p>\n",
    "It derives its name from the problem faced by someone who is constrained by a fixed-size knapsack and must fill it with the most valuable items.\n",
    "</p>\n",
    "</div>\n",
    "\n",
    "Our problem is a bit more complex: in place of the weight, each `item[i]` consumes `use[r][i]` from `resource[r]`.  \n",
    "We must determine how many of each `item[i]` we choose to carry.\n"
   ]
  },
  {
   "cell_type": "code",
   "execution_count": null,
   "metadata": {
    "collapsed": false
   },
   "outputs": [],
   "source": [
    "capacity = [18209, 7692, 1333, 924, 26638, 61188, 13360]\n",
    "value = [96, 76, 56, 11, 86, 10, 66, 86, 83, 12, 9, 81]\n",
    "\n",
    "use = [[19, 1, 10, 1, 1, 14, 152, 11, 1, 1, 1, 1],\n",
    "         [0, 4, 53, 0, 0, 80, 0, 4, 5, 0, 0, 0],\n",
    "         [4, 660, 3, 0, 30, 0, 3, 0, 4, 90, 0, 0],\n",
    "         [7, 0, 18, 6, 770, 330, 7, 0, 0, 6, 0, 0],\n",
    "         [0, 20, 0, 4, 52, 3, 0, 0, 0, 5, 4, 0],\n",
    "         [0, 0, 40, 70, 4, 63, 0, 0, 60, 0, 4, 0],\n",
    "         [0, 32, 0, 0, 0, 5, 0, 3, 0, 660, 0, 9]]\n",
    "\n",
    "## **--- add your code here ---\n",
    "\n",
    "\n",
    "\n",
    "\n"
   ]
  },
  {
   "cell_type": "markdown",
   "metadata": {},
   "source": [
    "<div class=\"alert alert-warning\">\n",
    "<b>Problem #4: (easy) – The assignment problem</b>\n",
    "<p>\n",
    "The assignment problem is one of the fundamental combinatorial optimization problems.\n",
    "In its most general form, the problem is as follows:\n",
    "</p><p>\n",
    "There are a number of agents and a number of tasks. Any agent can be assigned to perform any task, incurring some cost that may vary depending on the agent-task assignment. It is required to perform all tasks by assigning exactly one agent to each task in such a way that the total cost of the assignment is minimized.\n",
    "</p>\n",
    "</div>"
   ]
  },
  {
   "cell_type": "code",
   "execution_count": null,
   "metadata": {
    "collapsed": false,
    "scrolled": true
   },
   "outputs": [],
   "source": [
    "# Cost of allocating task j to agent i\n",
    "c = [[13, 21, 20, 12, 8, 26, 22, 11],\n",
    "     [12, 36, 25, 41, 40, 11, 4, 8],\n",
    "     [35, 32, 13, 36, 26, 21, 13, 37],\n",
    "     [34, 54, 7, 8, 12, 22, 11, 40],\n",
    "     [21, 6, 45, 18, 24, 34, 12, 48],\n",
    "     [42, 19, 39, 15, 14, 16, 28, 46],\n",
    "     [16, 34, 38, 3, 34, 40, 22, 24],\n",
    "     [26, 20, 5, 17, 45, 31, 37, 43]]\n",
    "\n",
    "## **--- add your code here ---\n",
    "\n",
    "\n",
    "\n",
    "## **--- add your code here ---\n",
    "\n",
    "print('Objective value: ', pb.objective.value())\n",
    "\n",
    "print('Assignment matrix:')\n",
    "print (np.array([[p.value() for p in sub] for sub in x], dtype=int)) # replace x with your matrix of variables"
   ]
  },
  {
   "cell_type": "markdown",
   "metadata": {},
   "source": [
    "## Mixed-Integer Linear Programming\n"
   ]
  },
  {
   "cell_type": "markdown",
   "metadata": {},
   "source": [
    "<div class=\"alert alert-warning\">\n",
    "<b>Problem #5: (a tad more difficult) – Planning a week of electric production</b>\n",
    "<p>\n",
    "An electric utility company owns two power plants.<br/> The first plant can power no less than 50 and up to 400 MW for a production cost of 20€/MWh.<br/> The second plant can power no less than 20 and up to 200 MW for a production cost of 40€/MWh.<br/> An additional constraints states that a power plan, when powered on, must keep on for at least two consecutive hours.\n",
    "</p><p>\n",
    "The power plants must meet an electric demand during a week provided in an attached file (one line per hour).\n",
    "</p>\n",
    "\n",
    "</div>"
   ]
  },
  {
   "cell_type": "code",
   "execution_count": null,
   "metadata": {
    "collapsed": false
   },
   "outputs": [],
   "source": [
    "demand = np.loadtxt(\"demand.txt\")\n",
    "plt.plot(demand, 'r')\n",
    "\n",
    "costs = np.array([20, 40])\n",
    "power_max = np.array([400, 200])\n",
    "power_min = np.array([50, 20])"
   ]
  },
  {
   "cell_type": "code",
   "execution_count": null,
   "metadata": {
    "collapsed": true
   },
   "outputs": [],
   "source": []
  }
 ],
 "metadata": {
  "kernelspec": {
   "display_name": "Python 3",
   "language": "python",
   "name": "python3"
  },
  "language_info": {
   "codemirror_mode": {
    "name": "ipython",
    "version": 3
   },
   "file_extension": ".py",
   "mimetype": "text/x-python",
   "name": "python",
   "nbconvert_exporter": "python",
   "pygments_lexer": "ipython3",
   "version": "3.6.0"
  },
  "widgets": {
   "state": {},
   "version": "1.1.2"
  }
 },
 "nbformat": 4,
 "nbformat_minor": 2
}
